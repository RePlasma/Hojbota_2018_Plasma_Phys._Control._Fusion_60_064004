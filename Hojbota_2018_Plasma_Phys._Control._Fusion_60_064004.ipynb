{
 "cells": [
  {
   "cell_type": "markdown",
   "metadata": {},
   "source": [
    "# Effect of the temporal laser pulse asymmetry on pair production processes during intense laser- electron scattering\n",
    "\n",
    "C I Hojbota _et al_ 2018 Plasma Phys. Control. Fusion __60__ 064004  https://iopscience.iop.org/article/10.1088/1361-6587/aabaac\n",
    "\n",
    "Results reproduced by: Óscar Amaro\n",
    "\n",
    "[1] Positron yield scaling law analysis following: Blackburn _et al_ Phys. Rev. A 96, 022128 (2017) https://journals.aps.org/pra/abstract/10.1103/PhysRevA.96.022128\n",
    "\n",
    "[2] $a_{0,\\mathrm{eff}}$ analysis following: Óscar Amaro and Marija Vranic 2021 New J. Phys. 23 115001, https://iopscience.iop.org/article/10.1088/1367-2630/ac2e83\n",
    "\n",
    "See also https://github.com/RePlasma/PhysRevA_96_022128"
   ]
  },
  {
   "cell_type": "markdown",
   "metadata": {},
   "source": [
    "The laser pulse wavelength is 0.8 micron, the duration is 42 fs and the focused transverse profile has a cos^2 shape\n",
    "\n",
    "The laser intensity has the   \n",
    "\n",
    "\n",
    "The electron beam has a uniform cylindrical profile with radius 0.5 μm (smaller than the spotsize of 5 micron) and length of 3 μm (9 fs, which is smaller than the pulse duration).\n",
    "\n",
    "Q = 4.3pC \\\n",
    "Ne = 4.3e-12 /(1.602e-19) ~2.7e7 particles"
   ]
  },
  {
   "cell_type": "markdown",
   "metadata": {},
   "source": [
    "### Notes\n",
    "For this geometry ($R \\ll W_0$ and $L \\ll z_R$)\n",
    "```\n",
    "zR (W0=3.2micron) = 40.21238596594935 micron\n",
    "zR (W0=5micron) = 98.17477042468103 micron\n",
    "```\n",
    "\n",
    "so the PW assumption ($dN/da=\\delta(a-a_0)$) should work well (see [2])\n",
    "\n",
    "For Figure 3, this assumption + N+ scaling law overestimates N+, but for Figure 6 it is close to the values in the paper."
   ]
  },
  {
   "cell_type": "code",
   "execution_count": 1,
   "metadata": {},
   "outputs": [],
   "source": [
    "import pwpp\n",
    "from pwpp import *"
   ]
  },
  {
   "cell_type": "code",
   "execution_count": 2,
   "metadata": {},
   "outputs": [],
   "source": [
    "Ne = 2.7e7 #[] total number of electrons in the colliding beam\n",
    "lbd = 0.8 #[micron]\n",
    "tau = 42 #[fs]\n",
    "w0 = 2*pi*c/(lbd*1e-6)*hbar/e*1e-9; #[GeV] laser frequency in GeV\n",
    "n = tau*c/(lbd*1e-6)*1e-15; #[] number of laser periods within the laser envelope\n",
    "# a0 = 0.855 * sqrt(I18) * lbd #LP laser\n",
    "\n",
    "# definitions in section 3.1 of the text\n",
    "wfwhm = 5; #[\\mu m]\n",
    "rmax = 2*wfwhm/pi; #[\\mu m]\n",
    "L = 3; #[\\mu m]\n",
    "R = 0.5; #[\\mu m]\n",
    "\n",
    "def a0eff(r):\n",
    "    \"\"\" effective laser field with transverse focusing \"\"\"\n",
    "    return a0*cos(r/rmax)**2 * np.heaviside(wfwhm-r,0.5)"
   ]
  },
  {
   "cell_type": "markdown",
   "metadata": {},
   "source": [
    "# Figure 3\n",
    "\n",
    "Here the scaling law applied to a PW overestimates the number of positrons"
   ]
  },
  {
   "cell_type": "code",
   "execution_count": 16,
   "metadata": {},
   "outputs": [
    {
     "name": "stdout",
     "output_type": "stream",
     "text": [
      "127.96468262766881\n",
      "chi_0 = [6.08079056 7.6009882  9.12118584]\n",
      "N+ total = [1.97045816 3.3017527  4.81419164]\n"
     ]
    }
   ],
   "source": [
    "IWcm = 3.5e22\n",
    "a0 = 0.855 * sqrt(IWcm*1e-18) * lbd #LP laser\n",
    "Npfig3 = np.array([Np(4/m_GeV, a0, w0, n)[0],Np(5/m_GeV, a0, w0, n)[0],Np(6/m_GeV, a0, w0, n)[0]]) * Ne*1e-7\n",
    "print(a0)\n",
    "print(\"chi_0 =\", np.array([4/m_GeV,5/m_GeV,6/m_GeV]) * a0 * 2/329458 )\n",
    "print(\"N+ total =\", Npfig3 )"
   ]
  },
  {
   "cell_type": "code",
   "execution_count": 31,
   "metadata": {},
   "outputs": [
    {
     "data": {
      "image/png": "[encoded data removed]",
      "text/plain": [
       "<Figure size 432x288 with 1 Axes>"
      ]
     },
     "metadata": {
      "needs_background": "light"
     },
     "output_type": "display_data"
    }
   ],
   "source": [
    "# data from the paper extracted using WebplotDigitizer\n",
    "Slst = [-0.7,-0.5,0,+0.5,+0.7]\n",
    "xlst = np.linspace(-1,+1)\n",
    "Np6GeV = [3.058943089430894, 3.170731707317073, 3.373983739837398, 3.516260162601626, 3.536585365853658]\n",
    "Np5GeV = [2.3983739837398366, 2.4847560975609766, 2.627032520325203, 2.7032520325203246, 2.713414634146341]\n",
    "Np4GeV = [1.7022357723577226, 1.763211382113822, 1.8394308943089417, 1.8699186991869903, 1.869918699186992]\n",
    "plt.plot(Slst,Np4GeV,'ks-', label=r'4 GeV')\n",
    "plt.plot(Slst,Np5GeV,'ro-', label=r'5 GeV')\n",
    "plt.plot(Slst,Np6GeV,'b^-', label=r'6 GeV')\n",
    "plt.plot(xlst, xlst*0 + Npfig3[0], 'k--')\n",
    "plt.plot(xlst, xlst*0 + Npfig3[1], 'r--')\n",
    "plt.plot(xlst, xlst*0 + Npfig3[2], 'b--')\n",
    "plt.legend()\n",
    "plt.xlim([-0.8,+0.8])\n",
    "plt.ylim([0,5])\n",
    "plt.xlabel(r'$S$')\n",
    "plt.ylabel(r'$N_{e^-e^+}^{BW}[10^7]$')\n",
    "plt.title(r'Figure 3')\n",
    "plt.show()"
   ]
  },
  {
   "cell_type": "markdown",
   "metadata": {},
   "source": [
    "# Figure 6\n",
    "\n",
    "Here the scaling law applied to a PW reproduces well the number of positrons"
   ]
  },
  {
   "cell_type": "code",
   "execution_count": 33,
   "metadata": {},
   "outputs": [
    {
     "name": "stdout",
     "output_type": "stream",
     "text": [
      "404.65985716401383\n",
      "chi_0 = [24.03643519 36.05465278 48.07287038]\n",
      "N+ total = [1.50643154 2.4945737  3.44674109]\n"
     ]
    }
   ],
   "source": [
    "IWcm = 3.5e23\n",
    "a0 = 0.855 * sqrt(IWcm*1e-18) * lbd #LP laser\n",
    "Npfig6 = np.array([Np(5/m_GeV, a0, w0, n)[0],Np(7.5/m_GeV, a0, w0, n)[0],Np(10/m_GeV, a0, w0, n)[0]]) * Ne*1e-8\n",
    "print(a0)\n",
    "print(\"chi_0 =\", np.array([5/m_GeV,7.5/m_GeV,10/m_GeV]) * a0 * 2/329458 )\n",
    "print(\"N+ total =\", Npfig6 )"
   ]
  },
  {
   "cell_type": "code",
   "execution_count": 36,
   "metadata": {},
   "outputs": [
    {
     "data": {
      "image/png": "[encoded data removed]",
      "text/plain": [
       "<Figure size 432x288 with 1 Axes>"
      ]
     },
     "metadata": {
      "needs_background": "light"
     },
     "output_type": "display_data"
    }
   ],
   "source": [
    "# data from the paper extracted using WebplotDigitizer\n",
    "Slst = [-0.7,0,+0.7]\n",
    "xlst = np.linspace(-1,+1)\n",
    "Np10GeV = [3.5330578512396684, 3.832644628099173, 3.9359504132231393]\n",
    "Np75GeV = [2.6549586776859497, 2.8409090909090904, 2.9080578512396684]\n",
    "Np05GeV = [1.885330578512396, 1.8595041322314043, 1.7561983471074378]\n",
    "plt.plot(Slst,Np05GeV,'ks-', label=r'5 GeV')\n",
    "plt.plot(Slst,Np75GeV,'ro-', label=r'7.5 GeV')\n",
    "plt.plot(Slst,Np10GeV,'b^-', label=r'10 GeV')\n",
    "plt.plot(xlst, xlst*0 + Npfig6[0], 'k--')\n",
    "plt.plot(xlst, xlst*0 + Npfig6[1], 'r--')\n",
    "plt.plot(xlst, xlst*0 + Npfig6[2], 'b--')\n",
    "plt.legend()\n",
    "plt.xlim([-0.8,+0.8])\n",
    "plt.ylim([0,5])\n",
    "plt.xlabel(r'$S$')\n",
    "plt.ylabel(r'$N_{e^-e^+}^{BW}[10^8]$')\n",
    "plt.title(r'Figure 6')\n",
    "plt.show()"
   ]
  },
  {
   "cell_type": "markdown",
   "metadata": {},
   "source": [
    "# Confirm PW assumption"
   ]
  },
  {
   "cell_type": "code",
   "execution_count": 9,
   "metadata": {},
   "outputs": [],
   "source": [
    "Nsmpl = int(1e7);\n",
    "# distribution along z optical axis is flat, so we can concentrate on the uniform radial transverse distribution\n",
    "rdist = R * sqrt(rng.random(Nsmpl))\n",
    "# calculate a\n",
    "nbins = 400; #[]\n",
    "abins = np.linspace(0.9*a0,0.99999*a0,nbins); #[]\n",
    "da = abins[1]-abins[0]; #[]\n",
    "# get histograms\n",
    "adist = a0eff(rdist);\n",
    "adist_y,adist_x = np.histogram(adist,abins)\n",
    "adist_y, adist_x = adist_y, arraycenter(adist_x)"
   ]
  },
  {
   "cell_type": "code",
   "execution_count": 15,
   "metadata": {},
   "outputs": [
    {
     "data": {
      "image/png": "[encoded data removed]",
      "text/plain": [
       "<Figure size 288x288 with 1 Axes>"
      ]
     },
     "metadata": {
      "needs_background": "light"
     },
     "output_type": "display_data"
    }
   ],
   "source": [
    "fig, axes = plt.subplots(nrows=1, ncols=1, figsize=(4,4))\n",
    "plt.plot(adist_x/a0, adist_y/np.max(adist_y), '-', color='royalblue');\n",
    "plt.xlabel(r'$a[a_0]$')\n",
    "plt.ylabel(r'$\\mathrm{d}N/\\mathrm{d}a ~[\\mathrm{arb. u.}]$',labelpad=15)\n",
    "plt.xlim([0.96,1])\n",
    "plt.xticks([0.96, 0.98, 1.0])\n",
    "# aspect\n",
    "axes.set_box_aspect(aspect=3/4)\n",
    "# final\n",
    "plt.tight_layout()\n",
    "plt.show()"
   ]
  },
  {
   "cell_type": "code",
   "execution_count": null,
   "metadata": {},
   "outputs": [],
   "source": []
  }
 ],
 "metadata": {
  "kernelspec": {
   "display_name": "Python 3",
   "language": "python",
   "name": "python3"
  },
  "language_info": {
   "codemirror_mode": {
    "name": "ipython",
    "version": 3
   },
   "file_extension": ".py",
   "mimetype": "text/x-python",
   "name": "python",
   "nbconvert_exporter": "python",
   "pygments_lexer": "ipython3",
   "version": "3.7.4"
  }
 },
 "nbformat": 4,
 "nbformat_minor": 4
}
